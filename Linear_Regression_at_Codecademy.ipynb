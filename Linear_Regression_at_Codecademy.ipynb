{
 "cells": [
  {
   "cell_type": "markdown",
   "id": "ebcbfbaf",
   "metadata": {},
   "source": [
    "***Linear Regression at Codecademy***\n",
    "\n",
    "For this project, you’ll get to work as a data analyst alongside the curriculum team at Codecademy to help us improve the learner experience. While this data is simulated, it is similar to real data that we might want to investigate as Codecademy team members!"
   ]
  },
  {
   "cell_type": "markdown",
   "id": "a9a70a2f",
   "metadata": {},
   "source": [
    "1. Let's load libraries and inspect data first"
   ]
  },
  {
   "cell_type": "code",
   "execution_count": 1,
   "id": "20628da2",
   "metadata": {},
   "outputs": [
    {
     "name": "stdout",
     "output_type": "stream",
     "text": [
      "   score  completed    lesson\n",
      "0   82.7       35.0  Lesson A\n",
      "1   65.2       31.0  Lesson A\n",
      "2   55.3       33.0  Lesson A\n",
      "3   28.8       25.0  Lesson B\n",
      "4   31.2       18.0  Lesson B\n"
     ]
    }
   ],
   "source": [
    "# Load libraries\n",
    "import pandas as pd\n",
    "import numpy as np\n",
    "import matplotlib.pyplot as plt\n",
    "import seaborn as sns\n",
    "import statsmodels.api as sm\n",
    "\n",
    "# Read in the data\n",
    "codecademy = pd.read_csv('codecademy.csv')\n",
    "\n",
    "#1 Print the first five rows\n",
    "print(codecademy.head())"
   ]
  },
  {
   "cell_type": "markdown",
   "id": "fac1a4da",
   "metadata": {},
   "source": [
    "2. Plot a scatter plot of score (y-axis) against completed (x-axis) to see the relationship between quiz score and number of completed content items.\n",
    "Is there a relationship between these two variables, and does it appear to be linear?"
   ]
  },
  {
   "cell_type": "code",
   "execution_count": 2,
   "id": "eced6d13",
   "metadata": {},
   "outputs": [
    {
     "data": {
      "image/png": "[encoded data removed]",
      "text/plain": [
       "<Figure size 432x288 with 1 Axes>"
      ]
     },
     "metadata": {
      "needs_background": "light"
     },
     "output_type": "display_data"
    },
    {
     "data": {
      "text/plain": [
       "<function matplotlib.pyplot.clf()>"
      ]
     },
     "execution_count": 2,
     "metadata": {},
     "output_type": "execute_result"
    }
   ],
   "source": [
    "plt.scatter(codecademy.completed, codecademy.score)\n",
    "# Show then clear plot\n",
    "plt.show()\n",
    "plt.clf"
   ]
  },
  {
   "cell_type": "markdown",
   "id": "329fb08a",
   "metadata": {},
   "source": [
    "3. Create and fit a linear regression model that predicts score using completed as the predictor. Print out the regression coefficients."
   ]
  },
  {
   "cell_type": "code",
   "execution_count": 3,
   "id": "3ecc6ac3",
   "metadata": {},
   "outputs": [
    {
     "name": "stdout",
     "output_type": "stream",
     "text": [
      "Intercept    13.214113\n",
      "completed     1.306826\n",
      "dtype: float64\n"
     ]
    }
   ],
   "source": [
    "model = sm.OLS.from_formula('score ~ completed', data = codecademy).fit()\n",
    "print(model.params)"
   ]
  },
  {
   "cell_type": "markdown",
   "id": "644b409d",
   "metadata": {},
   "source": [
    "4. Write a one-sentence (each) interpretation of the slope and intercept that you printed out in the previous step. "
   ]
  },
  {
   "cell_type": "code",
   "execution_count": 4,
   "id": "adf8cd57",
   "metadata": {},
   "outputs": [
    {
     "name": "stdout",
     "output_type": "stream",
     "text": [
      "Average score at 0% completed is 13.2\n",
      "1% completed provides additional 1.3 points to the score\n"
     ]
    }
   ],
   "source": [
    "# Intercept interpretation:\n",
    "print(\"Average score at 0% completed is {}\".format(round(model.params[0],1)))\n",
    "# Slope interpretation:\n",
    "print(\"1% completed provides additional {} points to the score\".format(round(model.params[1],1)))"
   ]
  },
  {
   "cell_type": "markdown",
   "id": "c12750ec",
   "metadata": {},
   "source": [
    "5. Plot the same scatter plot that you made earlier (with score on the y-axis and completed on the x-axis), but this time add the regression line on top of the plot."
   ]
  },
  {
   "cell_type": "code",
   "execution_count": 5,
   "id": "70ce434d",
   "metadata": {},
   "outputs": [
    {
     "data": {
      "image/png": "[encoded data removed]",
      "text/plain": [
       "<Figure size 432x288 with 1 Axes>"
      ]
     },
     "metadata": {
      "needs_background": "light"
     },
     "output_type": "display_data"
    },
    {
     "data": {
      "text/plain": [
       "<Figure size 432x288 with 0 Axes>"
      ]
     },
     "metadata": {},
     "output_type": "display_data"
    }
   ],
   "source": [
    "plt.scatter(codecademy.completed, codecademy.score)\n",
    "plt.plot(codecademy.completed, model.predict(codecademy))\n",
    "# Show then clear plot\n",
    "plt.show()\n",
    "plt.clf()"
   ]
  },
  {
   "cell_type": "markdown",
   "id": "8086345d",
   "metadata": {},
   "source": [
    "6. \n",
    "Use your model to calculate the predicted quiz score for a learner who has previously completed 20 other content items."
   ]
  },
  {
   "cell_type": "code",
   "execution_count": 6,
   "id": "eeeccc3c",
   "metadata": {},
   "outputs": [
    {
     "name": "stdout",
     "output_type": "stream",
     "text": [
      "Predicted quiz score for learner who completed 20% equals to 39.4\n"
     ]
    }
   ],
   "source": [
    "pred_20 = model.predict({'completed':[20]})\n",
    "print(\"Predicted quiz score for learner who completed 20% equals to {}\".format(round(pred_20[0],1)))"
   ]
  },
  {
   "cell_type": "markdown",
   "id": "9c768ed6",
   "metadata": {},
   "source": [
    "7. \n",
    "Calculate the fitted values for your model and save them as fitted_values."
   ]
  },
  {
   "cell_type": "code",
   "execution_count": 7,
   "id": "eea65af2",
   "metadata": {},
   "outputs": [],
   "source": [
    "fitted_values = model.predict(codecademy)"
   ]
  },
  {
   "cell_type": "markdown",
   "id": "6a281424",
   "metadata": {},
   "source": [
    "8. Calculate the residuals for the model and save the result as residuals."
   ]
  },
  {
   "cell_type": "code",
   "execution_count": 8,
   "id": "3e195319",
   "metadata": {},
   "outputs": [],
   "source": [
    "residuals = codecademy.score - fitted_values"
   ]
  },
  {
   "cell_type": "markdown",
   "id": "1c879a33",
   "metadata": {},
   "source": [
    "9. \n",
    "Check the normality assumption for linear regression by plotting a histogram of the residuals. \n",
    "Do the residuals appear to be approximately normally distributed?"
   ]
  },
  {
   "cell_type": "code",
   "execution_count": 9,
   "id": "7ef15078",
   "metadata": {},
   "outputs": [
    {
     "data": {
      "image/png": "[encoded data removed]",
      "text/plain": [
       "<Figure size 432x288 with 1 Axes>"
      ]
     },
     "metadata": {
      "needs_background": "light"
     },
     "output_type": "display_data"
    },
    {
     "name": "stdout",
     "output_type": "stream",
     "text": [
      "These residuals appear normally distributed, leading us to conclude that the normality assumption is satisfied.\n"
     ]
    },
    {
     "data": {
      "text/plain": [
       "<Figure size 432x288 with 0 Axes>"
      ]
     },
     "metadata": {},
     "output_type": "display_data"
    }
   ],
   "source": [
    "plt.hist(residuals)\n",
    "# Show then clear the plot\n",
    "plt.show()\n",
    "plt.clf()\n",
    "print(\"These residuals appear normally distributed, leading us to conclude that the normality assumption is satisfied.\")"
   ]
  },
  {
   "cell_type": "markdown",
   "id": "3f7b433b",
   "metadata": {},
   "source": [
    "10. \n",
    "Check the homoscedasticity assumption for linear regression by plotting the residuals (y-axis) against the fitted values (x-axis).\n",
    "Do you see any patterns or is the homoscedasticity assumption met?"
   ]
  },
  {
   "cell_type": "code",
   "execution_count": 10,
   "id": "a97a89b5",
   "metadata": {},
   "outputs": [
    {
     "data": {
      "image/png": "[encoded data removed]",
      "text/plain": [
       "<Figure size 432x288 with 1 Axes>"
      ]
     },
     "metadata": {
      "needs_background": "light"
     },
     "output_type": "display_data"
    },
    {
     "name": "stdout",
     "output_type": "stream",
     "text": [
      "The homoscedasticity assumption is met, this plot looks like a random splatter of points, centered around y=0.\n"
     ]
    },
    {
     "data": {
      "text/plain": [
       "<Figure size 432x288 with 0 Axes>"
      ]
     },
     "metadata": {},
     "output_type": "display_data"
    }
   ],
   "source": [
    "plt.scatter(fitted_values, residuals)\n",
    "# Show then clear the plot\n",
    "plt.show()\n",
    "plt.clf()\n",
    "print(\"The homoscedasticity assumption is met, this plot looks like a random splatter of points, centered around y=0.\")"
   ]
  },
  {
   "cell_type": "markdown",
   "id": "07356c91",
   "metadata": {},
   "source": [
    "11. Let’s now turn our attention to the lessons column to see if learners who took different lessons scored differently on the quiz.\n",
    "\n",
    "Use sns.boxplot to create a boxplot of score (y-variable) for each lesson (x-variable) to see the relationship between quiz score and which lesson the learner completed immediately before taking the quiz. Make sure to show, then clear the plot.\n",
    "\n",
    "Does one lesson appear to do a better job than the other of preparing students for this quiz? If so, which one?"
   ]
  },
  {
   "cell_type": "code",
   "execution_count": 11,
   "id": "bef62d4e",
   "metadata": {},
   "outputs": [
    {
     "name": "stderr",
     "output_type": "stream",
     "text": [
      "C:\\ProgramData\\Anaconda3\\lib\\site-packages\\seaborn\\_decorators.py:36: FutureWarning: Pass the following variables as keyword args: x, y. From version 0.12, the only valid positional argument will be `data`, and passing other arguments without an explicit keyword will result in an error or misinterpretation.\n",
      "  warnings.warn(\n"
     ]
    },
    {
     "data": {
      "image/png": "[encoded data removed]",
      "text/plain": [
       "<Figure size 432x288 with 1 Axes>"
      ]
     },
     "metadata": {
      "needs_background": "light"
     },
     "output_type": "display_data"
    },
    {
     "name": "stdout",
     "output_type": "stream",
     "text": [
      "By looking at boxplot we can conclude that average score after lesson A is higher than lesson B.\n"
     ]
    },
    {
     "data": {
      "text/plain": [
       "<Figure size 432x288 with 0 Axes>"
      ]
     },
     "metadata": {},
     "output_type": "display_data"
    }
   ],
   "source": [
    "sns.boxplot(codecademy.lesson, codecademy.score)\n",
    "# Show then clear plot\n",
    "plt.show()\n",
    "plt.clf()\n",
    "print(\"By looking at boxplot we can conclude that average score after lesson A is higher than lesson B.\")"
   ]
  },
  {
   "cell_type": "markdown",
   "id": "1a51d89f",
   "metadata": {},
   "source": [
    "12. Create and fit a linear regression model that predicts score using lesson as the predictor. Print out the regression coefficients."
   ]
  },
  {
   "cell_type": "code",
   "execution_count": 12,
   "id": "b81d85c5",
   "metadata": {},
   "outputs": [
    {
     "name": "stdout",
     "output_type": "stream",
     "text": [
      "Intercept(Lesson A mean): 59.21999999999999, Slope (difference between Lesson A mean and Lesson B mean): -11.642000000000007\n"
     ]
    }
   ],
   "source": [
    "model_sc_using_les = sm.OLS.from_formula('score ~ lesson', data = codecademy).fit()\n",
    "print(\"Intercept(Lesson A mean): {}, Slope (difference between Lesson A mean and Lesson B mean): {}\".format(model_sc_using_les.params[0], model_sc_using_les.params[1]))"
   ]
  },
  {
   "cell_type": "markdown",
   "id": "4089b9fb",
   "metadata": {},
   "source": [
    "13. Calculate and print out the mean quiz scores for learners who took lesson A and lesson B.\n",
    "Calculate and print out the mean difference.\n",
    "Can you see how these numbers relate to the intercept and slope that you printed out in the linear regression output?"
   ]
  },
  {
   "cell_type": "code",
   "execution_count": 13,
   "id": "48ec6ff0",
   "metadata": {},
   "outputs": [
    {
     "name": "stdout",
     "output_type": "stream",
     "text": [
      "Lesson A average score is 59.22\n",
      "Lesson B average score is 47.578\n",
      "Lesson difference is 11.641999999999996\n"
     ]
    }
   ],
   "source": [
    "lesson_A_mean = codecademy.groupby('lesson').mean().score[0]\n",
    "lesson_B_mean = codecademy.groupby('lesson').mean().score[1]\n",
    "print(\"Lesson A average score is {}\".format(lesson_A_mean))\n",
    "print(\"Lesson B average score is {}\".format(lesson_B_mean))\n",
    "print(\"Lesson difference is {}\".format(lesson_A_mean-lesson_B_mean))"
   ]
  },
  {
   "cell_type": "markdown",
   "id": "0a6bceb0",
   "metadata": {},
   "source": [
    "14. The next step in linear regression is to model quiz scores as a function of multiple other variables at once! To get a preview of what this might look like visually, let’s try using seaborn‘s lmplot() function to plot a scatter plot of score vs. completed, colored by lesson. For context, the lm in lmplot() stands for “linear model”. This function will automatically plot a linear regression model on top of the scatter plot.\n",
    "Note that when we include a third variable in our plot using the hue parameter (which controls the color of each point in the scatter plot), something interesting happens! All of a sudden, we end up with multiple regression lines."
   ]
  },
  {
   "cell_type": "code",
   "execution_count": 14,
   "id": "d046c0fe",
   "metadata": {},
   "outputs": [
    {
     "data": {
      "image/png": "[encoded data removed]",
      "text/plain": [
       "<Figure size 440.375x360 with 1 Axes>"
      ]
     },
     "metadata": {
      "needs_background": "light"
     },
     "output_type": "display_data"
    },
    {
     "data": {
      "text/plain": [
       "<Figure size 432x288 with 0 Axes>"
      ]
     },
     "metadata": {},
     "output_type": "display_data"
    }
   ],
   "source": [
    "sns.lmplot(x = 'completed', y = 'score', hue = 'lesson', data = codecademy)\n",
    "plt.show()\n",
    "plt.clf()"
   ]
  }
 ],
 "metadata": {
  "kernelspec": {
   "display_name": "Python 3 (ipykernel)",
   "language": "python",
   "name": "python3"
  },
  "language_info": {
   "codemirror_mode": {
    "name": "ipython",
    "version": 3
   },
   "file_extension": ".py",
   "mimetype": "text/x-python",
   "name": "python",
   "nbconvert_exporter": "python",
   "pygments_lexer": "ipython3",
   "version": "3.9.7"
  }
 },
 "nbformat": 4,
 "nbformat_minor": 5
}
